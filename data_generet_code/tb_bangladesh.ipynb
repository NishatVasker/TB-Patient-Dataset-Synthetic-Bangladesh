{
  "nbformat": 4,
  "nbformat_minor": 0,
  "metadata": {
    "colab": {
      "provenance": []
    },
    "kernelspec": {
      "name": "python3",
      "display_name": "Python 3"
    },
    "language_info": {
      "name": "python"
    }
  },
  "cells": [
    {
      "cell_type": "code",
      "source": [
        "pip install faker"
      ],
      "metadata": {
        "colab": {
          "base_uri": "https://localhost:8080/"
        },
        "id": "5r4fGAybsgcV",
        "outputId": "f4bb1710-40ff-4f6e-b9b8-5eb3b39ef207"
      },
      "execution_count": 2,
      "outputs": [
        {
          "output_type": "stream",
          "name": "stdout",
          "text": [
            "Collecting faker\n",
            "  Downloading faker-37.1.0-py3-none-any.whl.metadata (15 kB)\n",
            "Requirement already satisfied: tzdata in /usr/local/lib/python3.11/dist-packages (from faker) (2025.2)\n",
            "Downloading faker-37.1.0-py3-none-any.whl (1.9 MB)\n",
            "\u001b[2K   \u001b[90m━━━━━━━━━━━━━━━━━━━━━━━━━━━━━━━━━━━━━━━━\u001b[0m \u001b[32m1.9/1.9 MB\u001b[0m \u001b[31m26.6 MB/s\u001b[0m eta \u001b[36m0:00:00\u001b[0m\n",
            "\u001b[?25hInstalling collected packages: faker\n",
            "Successfully installed faker-37.1.0\n"
          ]
        }
      ]
    },
    {
      "cell_type": "code",
      "execution_count": 7,
      "metadata": {
        "colab": {
          "base_uri": "https://localhost:8080/"
        },
        "id": "3NILT1Z_sPQ4",
        "outputId": "87be73c4-8b07-4789-b4a9-f506be17f558"
      },
      "outputs": [
        {
          "output_type": "stream",
          "name": "stdout",
          "text": [
            "   Patient ID  Age  Gender Region Occupation  Date of Diagnosis      Symptoms  \\\n",
            "0           1   12  Female  Rural      Other                310   Weight loss   \n",
            "1           2   30   Other  Urban      Other               1538         Fever   \n",
            "2           3   13   Other  Rural    Student               2217  Night Sweats   \n",
            "3           4   47    Male  Urban     Worker               1887         Fever   \n",
            "4           5   35    Male  Rural      Other                933         Cough   \n",
            "\n",
            "  Sputum Smear Test GeneXpert Test Chest X-ray Results  ...  Malnutrition  \\\n",
            "0          Negative       Negative              Normal  ...           Yes   \n",
            "1          Negative       Positive            Abnormal  ...            No   \n",
            "2          Positive       Positive            Abnormal  ...            No   \n",
            "3          Positive       Negative            Abnormal  ...           Yes   \n",
            "4          Positive       Negative            Abnormal  ...            No   \n",
            "\n",
            "  Diabetes  HIV Chronic Lung Disease Smoking Status Alcohol Consumption  \\\n",
            "0      Yes   No                   No     Non-smoker         Non-drinker   \n",
            "1       No   No                   No     Non-smoker             Drinker   \n",
            "2       No   No                   No      Ex-smoker         Non-drinker   \n",
            "3      Yes   No                  Yes     Non-smoker             Drinker   \n",
            "4      Yes   No                  Yes      Ex-smoker             Drinker   \n",
            "\n",
            "  Living Conditions Access to Healthcare         City Region Code  \n",
            "0           Average                   No       Bogura          34  \n",
            "1              Rich                  Yes       Bogura          39  \n",
            "2              Rich                   No       Sylhet          41  \n",
            "3              Poor                   No  Narayanganj          39  \n",
            "4           Average                  Yes      Jessore          48  \n",
            "\n",
            "[5 rows x 28 columns]\n"
          ]
        }
      ],
      "source": [
        "import pandas as pd\n",
        "import numpy as np\n",
        "from faker import Faker\n",
        "\n",
        "# Initialize Faker for random data generation\n",
        "fake = Faker()\n",
        "\n",
        "# Number of records to generate\n",
        "num_records = 20000\n",
        "\n",
        "# Define possible values for categorical variables directly\n",
        "genders = ['Male', 'Female', 'Other']\n",
        "regions = ['Urban', 'Rural']\n",
        "occupations = ['Farmer', 'Laborer', 'Student', 'Worker', 'Other']\n",
        "treatment_types = ['DOTS', 'Drug-resistant TB treatment']\n",
        "outcomes = ['Cured', 'Failed', 'Lost to Follow-up', 'Death']\n",
        "complications = ['None', 'Liver Damage', 'Kidney Damage', 'Side-effects', 'Hepatitis']\n",
        "symptoms = ['Cough', 'Fever', 'Weight loss', 'Night Sweats']\n",
        "smoking_status = ['Non-smoker', 'Smoker', 'Ex-smoker']\n",
        "alcohol_status = ['Non-drinker', 'Drinker', 'Ex-drinker']\n",
        "living_conditions = ['Poor', 'Average', 'Rich']\n",
        "diabetes_status = ['Yes', 'No']\n",
        "hiv_status = ['Yes', 'No']\n",
        "lung_disease_status = ['Yes', 'No']\n",
        "malnutrition_status = ['Yes', 'No']\n",
        "cities = ['Dhaka', 'Chittagong', 'Khulna', 'Rajshahi', 'Sylhet', 'Barisal', 'Rangpur',\n",
        "          'Mymensingh', 'Comilla', 'Narayanganj', 'Bogura', 'Jessore', 'Tangail', 'Narsingdi',\n",
        "          'Gazipur', 'Chandpur', 'Pabna', 'Dinajpur', 'Faridpur', 'Manikganj']\n",
        "\n",
        "# Create random data for each column, focusing on WHO/NTP variables\n",
        "data = {\n",
        "    'Patient ID': list(range(1, num_records + 1)),  # Create a unique Patient ID from 1 to num_records\n",
        "    'Age': [fake.random_int(min=0, max=100) for _ in range(num_records)],\n",
        "    'Gender': [fake.random.choice(genders) for _ in range(num_records)],\n",
        "    'Region': [fake.random.choice(regions) for _ in range(num_records)],\n",
        "    'Occupation': [fake.random.choice(occupations) for _ in range(num_records)],\n",
        "    'Date of Diagnosis': [fake.random_int(min=0, max=3650) for _ in range(num_records)],  # Days since diagnosis\n",
        "    'Symptoms': [fake.random.choice(symptoms) for _ in range(num_records)],\n",
        "    'Sputum Smear Test': [fake.random.choice(['Positive', 'Negative']) for _ in range(num_records)],\n",
        "    'GeneXpert Test': [fake.random.choice(['Positive', 'Negative']) for _ in range(num_records)],\n",
        "    'Chest X-ray Results': [fake.random.choice(['Normal', 'Abnormal']) for _ in range(num_records)],\n",
        "    'Treatment Start Date': [fake.random_int(min=0, max=3650) for _ in range(num_records)],  # Days since treatment start\n",
        "    'Treatment Type': [fake.random.choice(treatment_types) for _ in range(num_records)],\n",
        "    'Duration of Treatment': [fake.random_int(min=6, max=24) for _ in range(num_records)],  # Duration in months\n",
        "    'Drug Resistance': [fake.random.choice(['Yes', 'No']) for _ in range(num_records)],\n",
        "    'Treatment Outcome': [fake.random.choice(outcomes) for _ in range(num_records)],\n",
        "    'Relapse': [fake.random.choice(['Yes', 'No']) for _ in range(num_records)],\n",
        "    'Mortality': [fake.random.choice(['Yes', 'No']) for _ in range(num_records)],\n",
        "    'Complications': [fake.random.choice(complications) for _ in range(num_records)],\n",
        "    'Malnutrition': [fake.random.choice(malnutrition_status) for _ in range(num_records)],\n",
        "    'Diabetes': [fake.random.choice(diabetes_status) for _ in range(num_records)],\n",
        "    'HIV': [fake.random.choice(hiv_status) for _ in range(num_records)],\n",
        "    'Chronic Lung Disease': [fake.random.choice(lung_disease_status) for _ in range(num_records)],\n",
        "    'Smoking Status': [fake.random.choice(smoking_status) for _ in range(num_records)],\n",
        "    'Alcohol Consumption': [fake.random.choice(alcohol_status) for _ in range(num_records)],\n",
        "    'Living Conditions': [fake.random.choice(living_conditions) for _ in range(num_records)],\n",
        "    'Access to Healthcare': [fake.random.choice(['Yes', 'No']) for _ in range(num_records)],\n",
        "    'City': [fake.random.choice(cities) for _ in range(num_records)],  # Major cities in Bangladesh\n",
        "    'Region Code': [fake.random_int(min=1, max=64) for _ in range(num_records)]  # Region codes for different regions in Bangladesh\n",
        "}\n",
        "\n",
        "# Create the DataFrame\n",
        "df = pd.DataFrame(data)\n",
        "\n",
        "# Display a preview of the dataset\n",
        "print(df.head())\n",
        "\n",
        "# Optionally, save to CSV\n",
        "df.to_csv('synthetic_tb_data_bangladesh_expanded.csv', index=False)\n"
      ]
    }
  ]
}